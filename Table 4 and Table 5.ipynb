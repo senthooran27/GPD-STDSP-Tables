{
 "cells": [
  {
   "cell_type": "code",
   "execution_count": 2,
   "id": "fd0a375c",
   "metadata": {},
   "outputs": [
    {
     "name": "stdout",
     "output_type": "stream",
     "text": [
      "enter value of pd: 0.01\n",
      "enter value of dispersion(lambda 2):0.01\n"
     ]
    },
    {
     "data": {
      "text/html": [
       "<iframe src=\"df_with_scroll.html\" style=\"width:100%; height:400px;\"></iframe>"
      ],
      "text/plain": [
       "<IPython.core.display.HTML object>"
      ]
     },
     "execution_count": 2,
     "metadata": {},
     "output_type": "execute_result"
    }
   ],
   "source": [
    "#Table 4\n",
    "import numpy as np\n",
    "from IPython.display import HTML\n",
    "table = np.zeros((21, 20))\n",
    "row_names = [f\"{i + 1}\" for i in range(0,21)]\n",
    "column_names = [f\"{i + 1}\" for i in range(0,20)]\n",
    "\n",
    "from math import exp\n",
    "import pandas as pd\n",
    "p= float(input(\"enter value of pd: \"))\n",
    "alpha=float(input(\"enter value of dispersion(lambda 2):\"))\n",
    "for n1 in range(0,21,1):\n",
    "    n11=int(row_names[n1])\n",
    "    for n2 in range(0,20,1):\n",
    "        n22=int(column_names[n2])\n",
    "        if(n22<=n11)or(n22>n11) :\n",
    "            a=(n11+n22)*exp(-(n11+n22)*p)*((1/(n11+n22))+(n22/(n11+n22))*p*exp(-alpha))\n",
    "            d=n1-1\n",
    "            f=n2-1\n",
    "            table[n1,n2]=round(a, 4) #a\n",
    "            \n",
    "df=pd.DataFrame(table)\n",
    "\n",
    "df.columns=column_names\n",
    "df.index=row_names\n",
    "df.replace(0, \"--\", inplace=True)\n",
    "df = df.iloc[:-1]\n",
    "\n",
    "\n",
    "styled_df = df.style.set_table_styles([\n",
    "    {\"selector\": \"th\", \"props\": [(\"background-color\", \"lightgray\")]},\n",
    "    {\"selector\": \"td\", \"props\": [(\"text-align\", \"right\")]},\n",
    "    # Add borders to all cells\n",
    "    {\"selector\": \"th, td\", \"props\": [(\"border\", \"1px solid black\")]},\n",
    "])\n",
    "html_string = styled_df.to_html()\n",
    "\n",
    "with open('df_with_scroll.html', 'w') as f:\n",
    "    f.write(html_string)\n",
    "\n",
    "import webbrowser\n",
    "webbrowser.open('df_with_scroll.html')  \n",
    "HTML('<iframe src=\"df_with_scroll.html\" style=\"width:100%; height:400px;\"></iframe>')"
   ]
  },
  {
   "cell_type": "code",
   "execution_count": 12,
   "id": "a9111f94",
   "metadata": {},
   "outputs": [
    {
     "name": "stdout",
     "output_type": "stream",
     "text": [
      "sample 1 size:10\n",
      "sample 2 size:20\n",
      "dispersion value:0.01\n"
     ]
    },
    {
     "data": {
      "text/html": [
       "<div>\n",
       "<style scoped>\n",
       "    .dataframe tbody tr th:only-of-type {\n",
       "        vertical-align: middle;\n",
       "    }\n",
       "\n",
       "    .dataframe tbody tr th {\n",
       "        vertical-align: top;\n",
       "    }\n",
       "\n",
       "    .dataframe thead th {\n",
       "        text-align: right;\n",
       "    }\n",
       "</style>\n",
       "<table border=\"1\" class=\"dataframe\">\n",
       "  <thead>\n",
       "    <tr style=\"text-align: right;\">\n",
       "      <th></th>\n",
       "      <th>0.005</th>\n",
       "      <th>0.010</th>\n",
       "      <th>0.025</th>\n",
       "      <th>0.050</th>\n",
       "      <th>0.100</th>\n",
       "      <th>0.250</th>\n",
       "      <th>0.750</th>\n",
       "      <th>0.900</th>\n",
       "      <th>0.950</th>\n",
       "      <th>0.975</th>\n",
       "      <th>0.990</th>\n",
       "      <th>0.995</th>\n",
       "    </tr>\n",
       "  </thead>\n",
       "  <tbody>\n",
       "    <tr>\n",
       "      <th>p_values</th>\n",
       "      <td>0.2343</td>\n",
       "      <td>0.2079</td>\n",
       "      <td>0.1725</td>\n",
       "      <td>0.145</td>\n",
       "      <td>0.1166</td>\n",
       "      <td>0.0771</td>\n",
       "      <td>0.0213</td>\n",
       "      <td>0.009</td>\n",
       "      <td>0.0046</td>\n",
       "      <td>0.0024</td>\n",
       "      <td>0.001</td>\n",
       "      <td>0.0005</td>\n",
       "    </tr>\n",
       "  </tbody>\n",
       "</table>\n",
       "</div>"
      ],
      "text/plain": [
       "           0.005   0.010   0.025  0.050   0.100   0.250   0.750  0.900  \\\n",
       "p_values  0.2343  0.2079  0.1725  0.145  0.1166  0.0771  0.0213  0.009   \n",
       "\n",
       "           0.950   0.975  0.990   0.995  \n",
       "p_values  0.0046  0.0024  0.001  0.0005  "
      ]
     },
     "execution_count": 12,
     "metadata": {},
     "output_type": "execute_result"
    }
   ],
   "source": [
    "#Table 5\n",
    "# P value for double sampling\n",
    "a=(n1+n2)*exp(-(n1+n2)*p)*((1/(n1+n2))+(n2/(n1+n2))*p*exp(-alpha))\n",
    "\n",
    "import numpy as np\n",
    "\n",
    "def solve_for_p(a, n1, n2, alpha):\n",
    "    def f(p):\n",
    "        return a - ((n1 + n2) * np.exp(-(n1 + n2) * p) * ((1 / (n1 + n2)) + (n2 / (n1 + n2)) * p * np.exp(-alpha)))\n",
    "\n",
    "    try:\n",
    "        from scipy.optimize import root_scalar\n",
    "        result = root_scalar(f, bracket=[0, 1])  # Assume p is within [0, 1]\n",
    "        return result.root\n",
    "    except ImportError:\n",
    "        print(\"SciPy is not installed. Using a less efficient method.\")\n",
    "\n",
    "        p_lower = 0\n",
    "        p_upper = 1\n",
    "        while abs(p_upper - p_lower) > 1e-6:\n",
    "            p_mid = (p_lower + p_upper) / 2\n",
    "            if f(p_mid) == 0:\n",
    "                return p_mid\n",
    "            elif f(p_mid) * f(p_lower) < 0:\n",
    "                p_upper = p_mid\n",
    "            else:\n",
    "                p_lower = p_mid\n",
    "\n",
    "        return (p_upper + p_lower) / 2\n",
    "\n",
    "a = [0.005,0.010,0.025,0.050,0.100,0.250,0.750,0.900,0.950,0.975,0.990,0.995]\n",
    "n1=float(input(\"sample 1 size:\"))\n",
    "n2 = float(input(\"sample 2 size:\"))\n",
    "alpha = float(input(\"dispersion value:\"))\n",
    "\n",
    "table2 = np.zeros((1,len(a)))\n",
    "\n",
    "from math import exp\n",
    "import pandas as pd\n",
    "for b in range(0,len(a)):\n",
    "    p = solve_for_p(a[b], n1, n2, alpha)\n",
    "    table2[0,b] = round(p,4)\n",
    "   \n",
    "\n",
    "df=pd.DataFrame(table2,columns=a)\n",
    "df.index=['p_values']\n",
    "df\n"
   ]
  }
 ],
 "metadata": {
  "kernelspec": {
   "display_name": "Python 3 (ipykernel)",
   "language": "python",
   "name": "python3"
  },
  "language_info": {
   "codemirror_mode": {
    "name": "ipython",
    "version": 3
   },
   "file_extension": ".py",
   "mimetype": "text/x-python",
   "name": "python",
   "nbconvert_exporter": "python",
   "pygments_lexer": "ipython3",
   "version": "3.9.12"
  }
 },
 "nbformat": 4,
 "nbformat_minor": 5
}
